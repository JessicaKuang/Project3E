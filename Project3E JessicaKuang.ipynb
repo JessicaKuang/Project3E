{
 "cells": [
  {
   "cell_type": "markdown",
   "metadata": {},
   "source": [
    "Project 3\n",
    "Jessica Kuang A14931276"
   ]
  },
  {
   "cell_type": "markdown",
   "metadata": {},
   "source": [
    "Scientific Question: How does mortality risk associates with short sleeping duration?\n",
    "\n",
    "Sleep duration is known to be associated with mortality rate. Many previous studies show that 7h is the optimal length of sleep, and sleeping for more than 8h or less than 6h both significantly increases all-cause mortality. In my study, I am trying to specifically study how significantly short sleeping duration influences mortality. The data I am using comes from the scientific article: Sleep duration, mortality and the influence of age. URL: https://www.ncbi.nlm.nih.gov/pmc/articles/PMC5680380/\n",
    "\n",
    "\n",
    "Scientific Hypothesis: If the sleeping duration is shorter than the optimal length, then the risk of mortality increases\n",
    "\n",
    "From the data, I am going to calculate the hazard ratio (HR) for each sleep duration group. Then, by using HR, I can use ttest to calculate the p-value to test if short sleep significantly increases mortality. I could not find raw data for my topic. The data I am using is manually imported into Python from the scientific article: Sleep duration, mortality and the influence of age. URL: https://www.ncbi.nlm.nih.gov/pmc/articles/PMC5680380/\n",
    "\n",
    "\n",
    "Part 1: Load the Packages\n",
    "\n",
    "Packages loaded include the following:\n",
    "    Pandas: pandas provides many convenient data structures to allow easy analysis of real-world, large data\n",
    "    SciPy: SciPy contains modules for many special functions, linear algebra, integration, and so on. scipy.stats which I am using contains a large number of statistical functions\n",
    "    Operator: operator includes a set of efficient functions that are commonly used. truediv which I am using stands for true division"
   ]
  },
  {
   "cell_type": "code",
   "execution_count": 5,
   "metadata": {},
   "outputs": [],
   "source": [
    "import pandas as pd\n",
    "from scipy.stats import ttest_ind\n",
    "from operator import truediv"
   ]
  },
  {
   "cell_type": "markdown",
   "metadata": {},
   "source": [
    "Part 2: Load in the data\n",
    "\n",
    "Data is imported manually as array first which then gets put into dataframe. "
   ]
  },
  {
   "cell_type": "code",
   "execution_count": 6,
   "metadata": {},
   "outputs": [
    {
     "name": "stdout",
     "output_type": "stream",
     "text": [
      "  hours/night  number  death    %death\n",
      "0         <=5    3270    486  0.148624\n",
      "1           6    9192    761  0.082789\n",
      "2           7   16822   1255  0.074605\n",
      "3         >=8    9907   1046  0.105582\n",
      "                  cause  number_of<=5h/night  number_of6h/night  \\\n",
      "0                   CVD                  180                231   \n",
      "1                cancer                  180                364   \n",
      "2               suicide                    7                 12   \n",
      "3   respiratory_disease                   21                 24   \n",
      "4  neurological_disease                   13                 27   \n",
      "5                 other                   85                103   \n",
      "\n",
      "   number_of7h/night  number_of>=8h/night  \n",
      "0                373                  356  \n",
      "1                532                  469  \n",
      "2                 17                   12  \n",
      "3                 56                   31  \n",
      "4                 36                   37  \n",
      "5                141                  141  \n"
     ]
    }
   ],
   "source": [
    "#hours of sleep per night\n",
    "hr = ['<=5', '6', '7', '>=8']\n",
    "#total number of participants\n",
    "N = [3270, 9192, 16822, 9907]\n",
    "#total death\n",
    "D = [486, 761, 1255, 1046]\n",
    "#calculate death% for different hours of sleep/night. truediv is used so that each value in array D can be divided by corresponding value in array N\n",
    "percentage = list(map(truediv, D, N)) \n",
    "\n",
    "#create dictionary and put the data into dataframe\n",
    "deathdict = { 'hours/night':hr, 'number':N,'death':D, '%death':percentage }\n",
    "death = pd.DataFrame(deathdict)\n",
    "\n",
    "print(death)\n",
    "\n",
    "#This is again secondary data from \"Sleep duration, mortality and the influence of age\". C stands for cause of death\n",
    "C = ['CVD', 'cancer', 'suicide', 'respiratory_disease', 'neurological_disease', 'other' ]\n",
    "#number of death corresponding to each cause\n",
    "NC5 = [180, 180, 7, 21, 13, 85]\n",
    "NC6 = [231, 364, 12, 24, 27, 103]\n",
    "NC7 = [373, 532, 17, 56, 36, 141]\n",
    "NC8 = [356, 469, 12, 31, 37, 141]\n",
    "\n",
    "#create dictionary and put the data into dataframe\n",
    "causedict = {'cause':C, 'number_of<=5h/night':NC5, 'number_of6h/night':NC6, 'number_of7h/night':NC7, 'number_of>=8h/night':NC8 }\n",
    "cause = pd.DataFrame(causedict)\n",
    "\n",
    "print(cause)"
   ]
  },
  {
   "cell_type": "markdown",
   "metadata": {},
   "source": [
    "Part 3: Performing bioinformatics analysis (p-value)\n",
    "\n",
    "HR is calculated by comparing the percent death of each sleep duration group, the >=8h group is used as the standard. By calculating HR, we are then ready to calculate p-value using ttest."
   ]
  },
  {
   "cell_type": "code",
   "execution_count": 7,
   "metadata": {},
   "outputs": [],
   "source": [
    "#percentage of death for each cause for different sleeping durations\n",
    "NC5percentage = [x/3270 for x in NC5]\n",
    "NC6percentage = [x/9192 for x in NC6]\n",
    "NC7percentage = [x/16822 for x in NC7]\n",
    "NC8percentage = [x/9907 for x in NC8]\n",
    "\n",
    "#from death%, using data of sleeping for 8h or more as standard, calculate hazard ratio of speepling for 5h or less, 6h, and 7h\n",
    "NC5HR = list(map(truediv, NC5percentage, NC8percentage)) \n",
    "NC6HR = list(map(truediv, NC6percentage, NC8percentage)) \n",
    "NC7HR = list(map(truediv, NC7percentage, NC8percentage)) "
   ]
  },
  {
   "cell_type": "markdown",
   "metadata": {},
   "source": [
    "Part 4: Plotting the results\n",
    "\n",
    "Ttest is used to generate p-value to test whether short sleep significantly increases mortality or not."
   ]
  },
  {
   "cell_type": "code",
   "execution_count": 8,
   "metadata": {},
   "outputs": [
    {
     "name": "stdout",
     "output_type": "stream",
     "text": [
      "Ttest_indResult(statistic=4.755507469944207, pvalue=0.0007737750747851186)\n",
      "Ttest_indResult(statistic=1.199292231038599, pvalue=0.2580592223345451)\n"
     ]
    }
   ],
   "source": [
    "#ttest for hazard ratio of sleeping for 5/6h conpare to sleeping for 7h\n",
    "ttest5 = ttest_ind(NC5HR, NC7HR)\n",
    "ttest6 = ttest_ind(NC6HR, NC7HR)\n",
    "\n",
    "print(ttest5)\n",
    "print(ttest6)"
   ]
  },
  {
   "cell_type": "markdown",
   "metadata": {},
   "source": [
    "Part 5: Analysis of the results\n",
    "\n",
    "The p value of comparing sleeping for 7h and sleeping for <=5h is 0.0008, less than 0.05, so sleeping for <=5h significantly increases all cause risk of death.\n",
    "The p value of comparing sleeping for 7h and sleeping for 6h is 0.26, greater than 0.05, so sleeping for 6h does not significantly increase all cause risk of death.\n",
    "My hyphothesis is partially correct that the risk of mortality indeed significantly increases when the sleeping duration is shorter or equal to 5h, while sleeping for 6h does not significantly increase risk of mortality even though it is also shorter than the optimal sleeping length of 7h."
   ]
  },
  {
   "cell_type": "code",
   "execution_count": null,
   "metadata": {},
   "outputs": [],
   "source": []
  }
 ],
 "metadata": {
  "kernelspec": {
   "display_name": "Python 3",
   "language": "python",
   "name": "python3"
  },
  "language_info": {
   "codemirror_mode": {
    "name": "ipython",
    "version": 3
   },
   "file_extension": ".py",
   "mimetype": "text/x-python",
   "name": "python",
   "nbconvert_exporter": "python",
   "pygments_lexer": "ipython3",
   "version": "3.8.5"
  }
 },
 "nbformat": 4,
 "nbformat_minor": 4
}
